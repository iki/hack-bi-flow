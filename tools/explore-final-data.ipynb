{
 "metadata": {
  "name": "",
  "signature": "sha256:551342239a9b6bf9c7c9bbae62265b5d82f8a5872c8291058498be2bfce44627"
 },
 "nbformat": 3,
 "nbformat_minor": 0,
 "worksheets": [
  {
   "cells": [
    {
     "cell_type": "code",
     "collapsed": false,
     "input": [
      "import json\n",
      "import langid\n",
      "import numpy as np\n",
      "import pandas as pd\n",
      "%matplotlib inline\n",
      "\n",
      "t = pd.read_csv('hackathon-stable-10k-final.tsv', '\\t')\n",
      "\n",
      "t.head(5)\n",
      "#plot(t)"
     ],
     "language": "python",
     "metadata": {},
     "outputs": [
      {
       "html": [
        "<div style=\"max-height:1000px;max-width:1500px;overflow:auto;\">\n",
        "<table border=\"1\" class=\"dataframe\">\n",
        "  <thead>\n",
        "    <tr style=\"text-align: right;\">\n",
        "      <th></th>\n",
        "      <th>timestamp</th>\n",
        "      <th>id</th>\n",
        "      <th>title</th>\n",
        "      <th>unknown</th>\n",
        "      <th>url</th>\n",
        "      <th>lang</th>\n",
        "      <th>lp</th>\n",
        "      <th>text</th>\n",
        "      <th>source</th>\n",
        "    </tr>\n",
        "  </thead>\n",
        "  <tbody>\n",
        "    <tr>\n",
        "      <th>0</th>\n",
        "      <td> 1175985600</td>\n",
        "      <td> 9529bc1e3262b2869e1daeee91e8e17d</td>\n",
        "      <td>                               NEW POST: Wish-list</td>\n",
        "      <td> NaN</td>\n",
        "      <td>  http://tfsconsole.codeplex.com/project/feeds/rss</td>\n",
        "      <td> en</td>\n",
        "      <td> 1.000000</td>\n",
        "      <td>  Please share your thoughts - what would you l...</td>\n",
        "      <td>                            TFS Management Console</td>\n",
        "    </tr>\n",
        "    <tr>\n",
        "      <th>1</th>\n",
        "      <td> 1398962721</td>\n",
        "      <td> 396e370343770af2b5d722dd70b1d474</td>\n",
        "      <td> Cheat Sheet: How to Use Facebook for PR and Ma...</td>\n",
        "      <td> NaN</td>\n",
        "      <td>                         http://www.vocus.com/blog</td>\n",
        "      <td> en</td>\n",
        "      <td> 1.000000</td>\n",
        "      <td> This post is an excerpt from our free &amp;lsquo;S...</td>\n",
        "      <td>                                        Vocus Blog</td>\n",
        "    </tr>\n",
        "    <tr>\n",
        "      <th>2</th>\n",
        "      <td> 1399195662</td>\n",
        "      <td> 641ca3b43d35162c67c7be9a64d3b535</td>\n",
        "      <td>                    Justin Davidson\u0092s Want-to-Sees</td>\n",
        "      <td> NaN</td>\n",
        "      <td>                                 http://nymag.com/</td>\n",
        "      <td> en</td>\n",
        "      <td> 1.000000</td>\n",
        "      <td>      What our critic is most eager for this fall.</td>\n",
        "      <td>                                    nymag.com: Art</td>\n",
        "    </tr>\n",
        "    <tr>\n",
        "      <th>3</th>\n",
        "      <td> 1398821307</td>\n",
        "      <td> 488d5832d951d337e55a324a8a743bf5</td>\n",
        "      <td>                                             #9895</td>\n",
        "      <td> NaN</td>\n",
        "      <td> http://www.millionreasonswhylithuaniaisthebest...</td>\n",
        "      <td> lt</td>\n",
        "      <td> 0.999064</td>\n",
        "      <td>                  &amp;Scaron;ikau ir tap&amp;scaron;nojau</td>\n",
        "      <td> Milijonas prie\u017eas\u010di\u0173 kod\u0117l Lietuva yra geriaus...</td>\n",
        "    </tr>\n",
        "    <tr>\n",
        "      <th>4</th>\n",
        "      <td> 1398260619</td>\n",
        "      <td> 05e4f4ac1449bf4e3196149cb374dceb</td>\n",
        "      <td> Initiating self-focusing of beams carrying spa...</td>\n",
        "      <td> NaN</td>\n",
        "      <td>                             http://josab.osa.org/</td>\n",
        "      <td> en</td>\n",
        "      <td> 1.000000</td>\n",
        "      <td> Lyubomir Stoyanov, Georgi Maleshkov, Ivan Stef...</td>\n",
        "      <td>       Journal of the Optical Society of America B</td>\n",
        "    </tr>\n",
        "  </tbody>\n",
        "</table>\n",
        "</div>"
       ],
       "metadata": {},
       "output_type": "pyout",
       "prompt_number": 4,
       "text": [
        "    timestamp                                id  \\\n",
        "0  1175985600  9529bc1e3262b2869e1daeee91e8e17d   \n",
        "1  1398962721  396e370343770af2b5d722dd70b1d474   \n",
        "2  1399195662  641ca3b43d35162c67c7be9a64d3b535   \n",
        "3  1398821307  488d5832d951d337e55a324a8a743bf5   \n",
        "4  1398260619  05e4f4ac1449bf4e3196149cb374dceb   \n",
        "\n",
        "                                               title unknown  \\\n",
        "0                                NEW POST: Wish-list     NaN   \n",
        "1  Cheat Sheet: How to Use Facebook for PR and Ma...     NaN   \n",
        "2                     Justin Davidson\u0092s Want-to-Sees     NaN   \n",
        "3                                              #9895     NaN   \n",
        "4  Initiating self-focusing of beams carrying spa...     NaN   \n",
        "\n",
        "                                                 url lang        lp  \\\n",
        "0   http://tfsconsole.codeplex.com/project/feeds/rss   en  1.000000   \n",
        "1                          http://www.vocus.com/blog   en  1.000000   \n",
        "2                                  http://nymag.com/   en  1.000000   \n",
        "3  http://www.millionreasonswhylithuaniaisthebest...   lt  0.999064   \n",
        "4                              http://josab.osa.org/   en  1.000000   \n",
        "\n",
        "                                                text  \\\n",
        "0   Please share your thoughts - what would you l...   \n",
        "1  This post is an excerpt from our free &lsquo;S...   \n",
        "2       What our critic is most eager for this fall.   \n",
        "3                   &Scaron;ikau ir tap&scaron;nojau   \n",
        "4  Lyubomir Stoyanov, Georgi Maleshkov, Ivan Stef...   \n",
        "\n",
        "                                              source  \n",
        "0                             TFS Management Console  \n",
        "1                                         Vocus Blog  \n",
        "2                                     nymag.com: Art  \n",
        "3  Milijonas prie\u017eas\u010di\u0173 kod\u0117l Lietuva yra geriaus...  \n",
        "4        Journal of the Optical Society of America B  "
       ]
      }
     ],
     "prompt_number": 4
    },
    {
     "cell_type": "code",
     "collapsed": false,
     "input": [
      "t = t.set_index(pd.Index(t['lang']))"
     ],
     "language": "python",
     "metadata": {},
     "outputs": [],
     "prompt_number": 5
    },
    {
     "cell_type": "code",
     "collapsed": false,
     "input": [
      "lang = t.index\n",
      "bylang = t.groupby(lang)\n",
      "stat = bylang.count()\n",
      "stat.plot(kind='bar', legend=False)"
     ],
     "language": "python",
     "metadata": {},
     "outputs": [
      {
       "metadata": {},
       "output_type": "pyout",
       "prompt_number": 6,
       "text": [
        "<matplotlib.axes._subplots.AxesSubplot at 0x7dee370>"
       ]
      },
      {
       "metadata": {},
       "output_type": "display_data",
       "png": "[encoded data removed]",
       "text": [
        "<matplotlib.figure.Figure at 0x78c1c10>"
       ]
      }
     ],
     "prompt_number": 6
    },
    {
     "cell_type": "code",
     "collapsed": false,
     "input": [],
     "language": "python",
     "metadata": {},
     "outputs": []
    }
   ],
   "metadata": {}
  }
 ]
}